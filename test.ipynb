{
 "cells": [
  {
   "cell_type": "code",
   "execution_count": 1,
   "metadata": {
    "ExecuteTime": {
     "end_time": "2019-05-22T15:33:26.961480Z",
     "start_time": "2019-05-22T15:33:26.949243Z"
    }
   },
   "outputs": [
    {
     "ename": "SyntaxError",
     "evalue": "invalid syntax (joint_cluster_cnn.py, line 199)",
     "output_type": "error",
     "traceback": [
      "Traceback \u001b[0;36m(most recent call last)\u001b[0m:\n",
      "  File \u001b[1;32m\"/Users/brucecottman/anaconda3/envs/paso/lib/python3.7/site-packages/IPython/core/interactiveshell.py\"\u001b[0m, line \u001b[1;32m3267\u001b[0m, in \u001b[1;35mrun_code\u001b[0m\n    exec(code_obj, self.user_global_ns, self.user_ns)\n",
      "\u001b[0;36m  File \u001b[0;32m\"<ipython-input-1-ffbd97845ae1>\"\u001b[0;36m, line \u001b[0;32m1\u001b[0;36m, in \u001b[0;35m<module>\u001b[0;36m\u001b[0m\n\u001b[0;31m    from joint_cluster_cnn import *\u001b[0m\n",
      "\u001b[0;36m  File \u001b[0;32m\"/Users/brucecottman/Documents/PROJECTS/jule/joint_cluster_cnn.py\"\u001b[0;36m, line \u001b[0;32m199\u001b[0m\n\u001b[0;31m    print net.get_shape()\u001b[0m\n\u001b[0m            ^\u001b[0m\n\u001b[0;31mSyntaxError\u001b[0m\u001b[0;31m:\u001b[0m invalid syntax\n"
     ]
    }
   ],
   "source": [
    "from joint_cluster_cnn import *\n",
    "\n",
    "# joint_cluster_cnn('usps', RC = True, updateCNN = True, eta = 0.9).run()\n",
    "# joint_cluster_cnn('mnist-test', RC = True, updateCNN = True, eta = 0.9).run()\n",
    "#joint_cluster_cnn('mnist-full', RC = True, updateCNN = True, eta = 0.9).run()\n",
    "# joint_cluster_cnn('coil20', RC = True, updateCNN = True, eta = 0.9).run()\n",
    "# joint_cluster_cnn('coil100', RC = True, updateCNN = True, eta = 0.9).run()\n",
    "joint_cluster_cnn('umist', RC = True, updateCNN = True, eta = 0.2).run()\n",
    "# added\n",
    "\n"
   ]
  }
 ],
 "metadata": {
  "hide_input": false,
  "kernelspec": {
   "display_name": "Python 3",
   "language": "python",
   "name": "python3"
  },
  "language_info": {
   "codemirror_mode": {
    "name": "ipython",
    "version": 3
   },
   "file_extension": ".py",
   "mimetype": "text/x-python",
   "name": "python",
   "nbconvert_exporter": "python",
   "pygments_lexer": "ipython3",
   "version": "3.7.1"
  },
  "toc": {
   "base_numbering": 1,
   "nav_menu": {},
   "number_sections": true,
   "sideBar": true,
   "skip_h1_title": false,
   "title_cell": "Table of Contents",
   "title_sidebar": "Contents",
   "toc_cell": false,
   "toc_position": {},
   "toc_section_display": true,
   "toc_window_display": false
  }
 },
 "nbformat": 4,
 "nbformat_minor": 2
}
